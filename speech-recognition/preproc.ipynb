{
 "cells": [
  {
   "cell_type": "markdown",
   "metadata": {},
   "source": [
    "### pre processing\n",
    " we create silence files, pad short files and make training and validation sets"
   ]
  },
  {
   "cell_type": "code",
   "execution_count": 1,
   "metadata": {},
   "outputs": [],
   "source": [
    "import numpy as np\n",
    "import librosa\n",
    "import librosa.display\n",
    "import os\n",
    "import csv\n",
    "%matplotlib inline\n",
    "import matplotlib.pyplot as plt\n",
    "import soundfile as sf"
   ]
  },
  {
   "cell_type": "code",
   "execution_count": 65,
   "metadata": {},
   "outputs": [],
   "source": [
    "train_dir = './data/train/audio/' #download files from kaggle\n",
    "\n",
    "classes = ['yes', 'no', \n",
    "           'up', 'down', \n",
    "           'left', 'right', \n",
    "           'on', 'off', \n",
    "           'stop', 'go',\n",
    "         #   'zero', 'one', 'two', 'three', 'four', 'five', 'six', 'seven', 'eight', 'nine',\n",
    "           'silence']"
   ]
  },
  {
   "cell_type": "markdown",
   "metadata": {},
   "source": [
    "run this cell to move the background noises folder out of the audio directory. We will create silence samples from these files after."
   ]
  },
  {
   "cell_type": "code",
   "execution_count": 3,
   "metadata": {
    "scrolled": true
   },
   "outputs": [
    {
     "name": "stdout",
     "output_type": "stream",
     "text": [
      "LICENSE\n",
      "README.md\n",
      "_background_noise_\n",
      "audio\n",
      "testing_list.txt\n",
      "validation_list.txt\n"
     ]
    }
   ],
   "source": [
    "%%bash\n",
    "mv data/train/audio/_background_noise_ data/train\n",
    "ls data/train"
   ]
  },
  {
   "cell_type": "markdown",
   "metadata": {},
   "source": [
    "Split all the audio files from \\_background\\_noises\\_ folder in 1-sec chunks"
   ]
  },
  {
   "cell_type": "code",
   "execution_count": 3,
   "metadata": {},
   "outputs": [],
   "source": [
    "def split_arr(arr):\n",
    "    \"\"\"\n",
    "    split an array into chunks of length 16000\n",
    "    Returns:\n",
    "        list of arrays\n",
    "    \"\"\"\n",
    "    return np.split(arr, np.arange(16000, len(arr), 16000))"
   ]
  },
  {
   "cell_type": "code",
   "execution_count": 4,
   "metadata": {},
   "outputs": [],
   "source": [
    "def create_silence():\n",
    "   \"\"\"\n",
    "   reads wav files in background noises folder, \n",
    "   splits them and saves to silence folder in train_dir\n",
    "   \"\"\"\n",
    "   sampleRate = 16000 # hertz\n",
    "   for file in os.listdir('data/train/_background_noise_/'):\n",
    "      if 'wav' in file:\n",
    "         sig, rate = librosa.load('data/train/_background_noise_/' + file, sr = 16000)        \n",
    "         sig_arr = split_arr(sig)\n",
    "         if not os.path.exists(train_dir+'silence/'):\n",
    "               os.makedirs(train_dir+'silence/')\n",
    "         for ind, arr in enumerate(sig_arr):\n",
    "               filename = 'frag%d' %ind + '_%s' %file # example: frag0_running_tap.wav\n",
    "               sf.write(train_dir+'silence/'+filename, arr, sampleRate)\n",
    "  "
   ]
  },
  {
   "cell_type": "code",
   "execution_count": 5,
   "metadata": {},
   "outputs": [
    {
     "ename": "TypeError",
     "evalue": "an integer is required",
     "output_type": "error",
     "traceback": [
      "\u001b[0;31m---------------------------------------------------------------------------\u001b[0m",
      "\u001b[0;31mTypeError\u001b[0m                                 Traceback (most recent call last)",
      "\u001b[0;32m/tmp/ipykernel_141842/741608547.py\u001b[0m in \u001b[0;36m<module>\u001b[0;34m\u001b[0m\n\u001b[0;32m----> 1\u001b[0;31m \u001b[0mcreate_silence\u001b[0m\u001b[0;34m(\u001b[0m\u001b[0;34m)\u001b[0m\u001b[0;34m\u001b[0m\u001b[0;34m\u001b[0m\u001b[0m\n\u001b[0m",
      "\u001b[0;32m/tmp/ipykernel_141842/2907519931.py\u001b[0m in \u001b[0;36mcreate_silence\u001b[0;34m()\u001b[0m\n\u001b[1;32m     13\u001b[0m          \u001b[0;32mfor\u001b[0m \u001b[0mind\u001b[0m\u001b[0;34m,\u001b[0m \u001b[0marr\u001b[0m \u001b[0;32min\u001b[0m \u001b[0menumerate\u001b[0m\u001b[0;34m(\u001b[0m\u001b[0msig_arr\u001b[0m\u001b[0;34m)\u001b[0m\u001b[0;34m:\u001b[0m\u001b[0;34m\u001b[0m\u001b[0;34m\u001b[0m\u001b[0m\n\u001b[1;32m     14\u001b[0m                \u001b[0mfilename\u001b[0m \u001b[0;34m=\u001b[0m \u001b[0;34m'frag%d'\u001b[0m \u001b[0;34m%\u001b[0m\u001b[0mind\u001b[0m \u001b[0;34m+\u001b[0m \u001b[0;34m'_%s'\u001b[0m \u001b[0;34m%\u001b[0m\u001b[0mfile\u001b[0m \u001b[0;31m# example: frag0_running_tap.wav\u001b[0m\u001b[0;34m\u001b[0m\u001b[0;34m\u001b[0m\u001b[0m\n\u001b[0;32m---> 15\u001b[0;31m                \u001b[0msf\u001b[0m\u001b[0;34m.\u001b[0m\u001b[0mwrite\u001b[0m\u001b[0;34m(\u001b[0m\u001b[0mtrain_dir\u001b[0m\u001b[0;34m+\u001b[0m\u001b[0;34m'silence/'\u001b[0m\u001b[0;34m+\u001b[0m\u001b[0mfilename\u001b[0m\u001b[0;34m,\u001b[0m \u001b[0marr\u001b[0m\u001b[0;34m,\u001b[0m \u001b[0msampleRate\u001b[0m\u001b[0;34m)\u001b[0m\u001b[0;34m\u001b[0m\u001b[0;34m\u001b[0m\u001b[0m\n\u001b[0m\u001b[1;32m     16\u001b[0m \u001b[0;34m\u001b[0m\u001b[0m\n",
      "\u001b[0;32m/usr/local/lib/python3.7/dist-packages/soundfile.py\u001b[0m in \u001b[0;36mwrite\u001b[0;34m(file, data, samplerate, subtype, endian, format, closefd)\u001b[0m\n\u001b[1;32m    313\u001b[0m         \u001b[0mchannels\u001b[0m \u001b[0;34m=\u001b[0m \u001b[0mdata\u001b[0m\u001b[0;34m.\u001b[0m\u001b[0mshape\u001b[0m\u001b[0;34m[\u001b[0m\u001b[0;36m1\u001b[0m\u001b[0;34m]\u001b[0m\u001b[0;34m\u001b[0m\u001b[0;34m\u001b[0m\u001b[0m\n\u001b[1;32m    314\u001b[0m     with SoundFile(file, 'w', samplerate, channels,\n\u001b[0;32m--> 315\u001b[0;31m                    subtype, endian, format, closefd) as f:\n\u001b[0m\u001b[1;32m    316\u001b[0m         \u001b[0mf\u001b[0m\u001b[0;34m.\u001b[0m\u001b[0mwrite\u001b[0m\u001b[0;34m(\u001b[0m\u001b[0mdata\u001b[0m\u001b[0;34m)\u001b[0m\u001b[0;34m\u001b[0m\u001b[0;34m\u001b[0m\u001b[0m\n\u001b[1;32m    317\u001b[0m \u001b[0;34m\u001b[0m\u001b[0m\n",
      "\u001b[0;32m/usr/local/lib/python3.7/dist-packages/soundfile.py\u001b[0m in \u001b[0;36m__init__\u001b[0;34m(self, file, mode, samplerate, channels, subtype, endian, format, closefd)\u001b[0m\n\u001b[1;32m    626\u001b[0m         \u001b[0mself\u001b[0m\u001b[0;34m.\u001b[0m\u001b[0m_mode\u001b[0m \u001b[0;34m=\u001b[0m \u001b[0mmode\u001b[0m\u001b[0;34m\u001b[0m\u001b[0;34m\u001b[0m\u001b[0m\n\u001b[1;32m    627\u001b[0m         self._info = _create_info_struct(file, mode, samplerate, channels,\n\u001b[0;32m--> 628\u001b[0;31m                                          format, subtype, endian)\n\u001b[0m\u001b[1;32m    629\u001b[0m         \u001b[0mself\u001b[0m\u001b[0;34m.\u001b[0m\u001b[0m_file\u001b[0m \u001b[0;34m=\u001b[0m \u001b[0mself\u001b[0m\u001b[0;34m.\u001b[0m\u001b[0m_open\u001b[0m\u001b[0;34m(\u001b[0m\u001b[0mfile\u001b[0m\u001b[0;34m,\u001b[0m \u001b[0mmode_int\u001b[0m\u001b[0;34m,\u001b[0m \u001b[0mclosefd\u001b[0m\u001b[0;34m)\u001b[0m\u001b[0;34m\u001b[0m\u001b[0;34m\u001b[0m\u001b[0m\n\u001b[1;32m    630\u001b[0m         \u001b[0;32mif\u001b[0m \u001b[0mset\u001b[0m\u001b[0;34m(\u001b[0m\u001b[0mmode\u001b[0m\u001b[0;34m)\u001b[0m\u001b[0;34m.\u001b[0m\u001b[0missuperset\u001b[0m\u001b[0;34m(\u001b[0m\u001b[0;34m'r+'\u001b[0m\u001b[0;34m)\u001b[0m \u001b[0;32mand\u001b[0m \u001b[0mself\u001b[0m\u001b[0;34m.\u001b[0m\u001b[0mseekable\u001b[0m\u001b[0;34m(\u001b[0m\u001b[0;34m)\u001b[0m\u001b[0;34m:\u001b[0m\u001b[0;34m\u001b[0m\u001b[0;34m\u001b[0m\u001b[0m\n",
      "\u001b[0;32m/usr/local/lib/python3.7/dist-packages/soundfile.py\u001b[0m in \u001b[0;36m_create_info_struct\u001b[0;34m(file, mode, samplerate, channels, format, subtype, endian)\u001b[0m\n\u001b[1;32m   1423\u001b[0m         \u001b[0;32mif\u001b[0m \u001b[0msamplerate\u001b[0m \u001b[0;32mis\u001b[0m \u001b[0;32mNone\u001b[0m\u001b[0;34m:\u001b[0m\u001b[0;34m\u001b[0m\u001b[0;34m\u001b[0m\u001b[0m\n\u001b[1;32m   1424\u001b[0m             \u001b[0;32mraise\u001b[0m \u001b[0mTypeError\u001b[0m\u001b[0;34m(\u001b[0m\u001b[0;34m\"samplerate must be specified\"\u001b[0m\u001b[0;34m)\u001b[0m\u001b[0;34m\u001b[0m\u001b[0;34m\u001b[0m\u001b[0m\n\u001b[0;32m-> 1425\u001b[0;31m         \u001b[0minfo\u001b[0m\u001b[0;34m.\u001b[0m\u001b[0msamplerate\u001b[0m \u001b[0;34m=\u001b[0m \u001b[0msamplerate\u001b[0m\u001b[0;34m\u001b[0m\u001b[0;34m\u001b[0m\u001b[0m\n\u001b[0m\u001b[1;32m   1426\u001b[0m         \u001b[0;32mif\u001b[0m \u001b[0mchannels\u001b[0m \u001b[0;32mis\u001b[0m \u001b[0;32mNone\u001b[0m\u001b[0;34m:\u001b[0m\u001b[0;34m\u001b[0m\u001b[0;34m\u001b[0m\u001b[0m\n\u001b[1;32m   1427\u001b[0m             \u001b[0;32mraise\u001b[0m \u001b[0mTypeError\u001b[0m\u001b[0;34m(\u001b[0m\u001b[0;34m\"channels must be specified\"\u001b[0m\u001b[0;34m)\u001b[0m\u001b[0;34m\u001b[0m\u001b[0;34m\u001b[0m\u001b[0m\n",
      "\u001b[0;31mTypeError\u001b[0m: an integer is required"
     ]
    }
   ],
   "source": [
    "create_silence()"
   ]
  },
  {
   "cell_type": "markdown",
   "metadata": {},
   "source": [
    "It is probably a good idea to make more silence samples yourself. \n",
    "Perhaps just by recording walking or driving around without speaking.\n",
    "the silence class is underrepresented."
   ]
  },
  {
   "cell_type": "markdown",
   "metadata": {},
   "source": [
    "three lists with file names. one for training set, one for validation set, one for all. Plus a dictionary with file counts per class."
   ]
  },
  {
   "cell_type": "code",
   "execution_count": 66,
   "metadata": {},
   "outputs": [
    {
     "name": "stdout",
     "output_type": "stream",
     "text": [
      "['yes', 'no', 'up', 'down', 'left', 'right', 'on', 'off', 'stop', 'go', 'silence', 'bird', 'bed', 'house', 'seven', 'six', 'nine', 'dog', 'two', 'eight', 'four', 'tree', 'zero', 'marvin', 'happy', 'sheila', 'wow', 'three', 'one', 'cat', 'five']\n"
     ]
    }
   ],
   "source": [
    "folders = os.listdir(train_dir)\n",
    "# put folders in same order as in the classes list, used when making sets\n",
    "all_classes = [x for x in classes]\n",
    "for ind, cl in enumerate(folders):\n",
    "    if cl not in classes:\n",
    "        all_classes.append(cl)\n",
    "print(all_classes)"
   ]
  },
  {
   "cell_type": "code",
   "execution_count": 6,
   "metadata": {},
   "outputs": [],
   "source": [
    "with open('./data/train/validation_list.txt') as val_list:\n",
    "    validation_list = [row[0] for row in csv.reader(val_list)]\n",
    "assert len(validation_list) == 6798, 'file not loaded'\n",
    "\n",
    "\"\"\"\n",
    "#if you want to add the files in testing_list.txt to the validation list:\n",
    "\n",
    "with open('./data/train/testing_list.txt') as test_list:\n",
    "    testing_list = [row[0] for row in csv.reader(test_list)]\n",
    "assert len(testing_list) == 6835, 'file not loaded'\n",
    "\n",
    "#combine into validation set\n",
    "validation_list.extend(testing_list)\n",
    "\"\"\"\n",
    "#add silence files to validation_list\n",
    "for i, file in enumerate(os.listdir(train_dir + 'silence/')):\n",
    "    if i%10==0:\n",
    "        validation_list.append('silence/'+file)\n",
    "\n",
    "training_list = []\n",
    "all_files_list = []\n",
    "class_counts = {}\n",
    "\n",
    "for folder in folders:\n",
    "    files = os.listdir(train_dir + folder)\n",
    "    for i, f in enumerate(files):\n",
    "        all_files_list.append(folder + '/' + f)\n",
    "        path = folder + '/' + f\n",
    "        if path not in validation_list:\n",
    "            training_list.append(folder + '/' + f)        \n",
    "        class_counts[folder] = i\n",
    "\n",
    "#remove filenames from validation_list that don't exist anymore (due to eda)\n",
    "validation_list = list(set(validation_list).intersection(all_files_list))"
   ]
  },
  {
   "cell_type": "code",
   "execution_count": 7,
   "metadata": {},
   "outputs": [],
   "source": [
    "assert len(validation_list)+len(training_list)==len(all_files_list), 'error'"
   ]
  },
  {
   "cell_type": "code",
   "execution_count": 8,
   "metadata": {},
   "outputs": [
    {
     "name": "stdout",
     "output_type": "stream",
     "text": [
      "bird/ed0720f1_nohash_0.wav size training set:  58284 size validation set:  6839\n"
     ]
    }
   ],
   "source": [
    "# check random file name\n",
    "print(training_list[345], 'size training set: ',len(training_list), 'size validation set: ', len(validation_list))"
   ]
  },
  {
   "cell_type": "code",
   "execution_count": 9,
   "metadata": {
    "scrolled": false
   },
   "outputs": [
    {
     "name": "stdout",
     "output_type": "stream",
     "text": [
      "{'bird': 1730, 'yes': 2376, 'bed': 1712, 'house': 1749, 'seven': 2376, 'six': 2368, 'down': 2358, 'nine': 2363, 'dog': 1745, 'silence': 401, 'two': 2372, 'no': 2374, 'eight': 2351, 'right': 2366, 'go': 2371, 'four': 2371, 'tree': 1732, 'zero': 2375, 'marvin': 1745, 'happy': 1741, 'sheila': 1733, 'up': 2374, 'wow': 1744, 'three': 2355, 'one': 2369, 'cat': 1732, 'five': 2356, 'on': 2366, 'stop': 2379, 'left': 2352, 'off': 2356}\n"
     ]
    }
   ],
   "source": [
    "print(class_counts)\n",
    "# {'tree': 1732, 'sheila': 1733, 'bird': 1730, 'no': 2374, 'four': 2371, 'zero': 2375, 'up': 2374, 'five': 2356, 'cat': 1732, 'yes': 2376, 'eight': 2351, 'off': 2356, 'seven': 2376, 'house': 1749, 'happy': 1741, 'three': 2355, 'left': 2352, 'two': 2372, 'bed': 1712, 'nine': 2363, 'dog': 1745, 'down': 2358, 'wow': 1744, 'right': 2366, 'on': 2366, 'one': 2369, 'go': 2371, 'marvin': 1745, 'stop': 2379, 'six': 2368, 'silence': 401}"
   ]
  },
  {
   "cell_type": "markdown",
   "metadata": {},
   "source": [
    "plot a wav file"
   ]
  },
  {
   "cell_type": "code",
   "execution_count": 10,
   "metadata": {},
   "outputs": [
    {
     "name": "stdout",
     "output_type": "stream",
     "text": [
      "min:  -0.1182251 \n",
      "max:  0.10827637 \n",
      "mean:  7.842428e-06 \n",
      "median:  0.0 \n",
      "variance:  0.0003236237 \n",
      "length:  10923\n"
     ]
    },
    {
     "data": {
      "text/plain": [
       "[<matplotlib.lines.Line2D at 0x7f52b66fbd50>]"
      ]
     },
     "execution_count": 10,
     "metadata": {},
     "output_type": "execute_result"
    },
    {
     "data": {
      "image/png": "[encoded data removed]",
      "text/plain": [
       "<Figure size 432x288 with 1 Axes>"
      ]
     },
     "metadata": {
      "needs_background": "light"
     },
     "output_type": "display_data"
    }
   ],
   "source": [
    "x, r = librosa.load(train_dir + 'yes/bfdb9801_nohash_0.wav', sr = 16000)\n",
    "print('min: ',np.min(x), \n",
    "      '\\nmax: ', np.max(x), \n",
    "      '\\nmean: ', np.mean(x),\n",
    "      '\\nmedian: ', np.median(x),\n",
    "      '\\nvariance: ', np.var(x),\n",
    "      '\\nlength: ', len(x))\n",
    "plt.plot(x)"
   ]
  },
  {
   "cell_type": "markdown",
   "metadata": {},
   "source": [
    "### turn all wav files into spectrograms"
   ]
  },
  {
   "cell_type": "code",
   "execution_count": 11,
   "metadata": {},
   "outputs": [],
   "source": [
    "def make_spec(file, file_dir = train_dir, flip = False, ps = False, st = 4):\n",
    "    \"\"\"\n",
    "    create a melspectrogram from the amplitude of the sound\n",
    "    \n",
    "    Args:\n",
    "        file (str): filename\n",
    "        file_dir (str): directory path\n",
    "        flip (bool): reverse time axis\n",
    "        ps (bool): pitch shift\n",
    "        st (int): half-note steps for pitch shift\n",
    "    Returns:\n",
    "        np.array with shape (122,85) (time, freq)\n",
    "    \"\"\"\n",
    "    sig, rate = librosa.load(file_dir + file, sr = 16000)\n",
    "    if len(sig) < 16000: # pad shorter than 1 sec audio with ramp to zero\n",
    "        sig = np.pad(sig, (0,16000-len(sig)), 'linear_ramp')\n",
    "    if ps:\n",
    "        sig = librosa.effects.pitch_shift(sig, rate, st)\n",
    "    D = librosa.amplitude_to_db(librosa.stft(sig[:16000], n_fft = 512, \n",
    "                                             hop_length = 128, \n",
    "                                             center = False), ref = np.max)\n",
    "    S = librosa.feature.melspectrogram(S=D, n_mels = 85).T\n",
    "    if flip:\n",
    "        S = np.flipud(S)\n",
    "    return S.astype(np.float32)"
   ]
  },
  {
   "cell_type": "code",
   "execution_count": 12,
   "metadata": {},
   "outputs": [
    {
     "name": "stderr",
     "output_type": "stream",
     "text": [
      "/usr/local/lib/python3.7/dist-packages/librosa/util/decorators.py:88: UserWarning: amplitude_to_db was called on complex input so phase information will be discarded. To suppress this warning, call amplitude_to_db(np.abs(S)) instead.\n",
      "  return f(*args, **kwargs)\n"
     ]
    },
    {
     "data": {
      "text/plain": [
       "<matplotlib.collections.QuadMesh at 0x7f52b5cd94d0>"
      ]
     },
     "execution_count": 12,
     "metadata": {},
     "output_type": "execute_result"
    },
    {
     "data": {
      "image/png": "[encoded data removed]",
      "text/plain": [
       "<Figure size 432x288 with 1 Axes>"
      ]
     },
     "metadata": {
      "needs_background": "light"
     },
     "output_type": "display_data"
    }
   ],
   "source": [
    "librosa.display.specshow(make_spec('yes/bfdb9801_nohash_0.wav'), \n",
    "                         x_axis='mel', \n",
    "                         fmax=8000, \n",
    "                         y_axis='time', \n",
    "                         sr = 16000,\n",
    "                         hop_length = 128)"
   ]
  },
  {
   "cell_type": "code",
   "execution_count": 13,
   "metadata": {},
   "outputs": [
    {
     "data": {
      "text/plain": [
       "(122, 85)"
      ]
     },
     "execution_count": 13,
     "metadata": {},
     "output_type": "execute_result"
    }
   ],
   "source": [
    "make_spec('yes/bfdb9801_nohash_0.wav').shape"
   ]
  },
  {
   "cell_type": "code",
   "execution_count": 80,
   "metadata": {},
   "outputs": [],
   "source": [
    "def create_sets(file_list = training_list):\n",
    "    X_array = np.zeros([len(file_list),122,85])\n",
    "    Y_array = np.zeros([len(file_list)])    \n",
    "    for ind, file in enumerate(file_list):\n",
    "        if ind%2000 == 0:\n",
    "            print(ind, file)\n",
    "        try:\n",
    "            X_array[ind] = make_spec(file)\n",
    "        except ValueError:\n",
    "            print(ind, file, ValueError)\n",
    "        Y_array[ind] = all_classes.index(file.rsplit('/')[0])\n",
    "        \n",
    "    return X_array, Y_array        \n",
    "        "
   ]
  },
  {
   "cell_type": "code",
   "execution_count": 69,
   "metadata": {},
   "outputs": [
    {
     "name": "stdout",
     "output_type": "stream",
     "text": [
      "0 bird/de650823_nohash_0.wav bird 11\n",
      "2000 yes/d1a4fb3f_nohash_1.wav yes 0\n",
      "4000 bed/bf4af1af_nohash_0.wav bed 12\n",
      "6000 house/16d41d07_nohash_0.wav house 13\n",
      "8000 seven/40115b19_nohash_0.wav seven 14\n",
      "10000 six/8d5d076d_nohash_0.wav six 15\n",
      "12000 down/ee07dcb9_nohash_2.wav down 3\n",
      "14000 nine/c08e5058_nohash_0.wav nine 16\n",
      "16000 dog/3d9200b9_nohash_1.wav dog 17\n",
      "18000 two/eb3f7d82_nohash_3.wav two 18\n",
      "20000 no/20d3f11f_nohash_0.wav no 1\n",
      "22000 eight/617de221_nohash_3.wav eight 19\n",
      "24000 right/7e783e3f_nohash_0.wav right 5\n",
      "26000 go/784e281a_nohash_1.wav go 9\n",
      "28000 four/9587481f_nohash_1.wav four 20\n",
      "30000 tree/78622c2b_nohash_0.wav tree 21\n",
      "32000 zero/5aac2efa_nohash_0.wav zero 22\n",
      "34000 marvin/402e2977_nohash_0.wav marvin 23\n",
      "36000 happy/530306f5_nohash_0.wav happy 24\n",
      "38000 sheila/19e98e89_nohash_0.wav sheila 25\n",
      "40000 up/f7b43563_nohash_0.wav up 2\n",
      "42000 three/2039b9c1_nohash_0.wav three 27\n",
      "44000 three/24c9f572_nohash_0.wav three 27\n",
      "46000 one/95ba4996_nohash_0.wav one 28\n",
      "48000 five/e91d173e_nohash_0.wav five 30\n",
      "50000 on/28460a60_nohash_0.wav on 6\n",
      "52000 stop/2ad772d6_nohash_0.wav stop 8\n",
      "54000 stop/7f74626f_nohash_4.wav stop 8\n",
      "56000 left/86cb59b2_nohash_1.wav left 4\n",
      "58000 off/8134f43f_nohash_3.wav off 7\n"
     ]
    }
   ],
   "source": [
    "def print_sets(file_list = training_list):\n",
    "    for ind, file in enumerate(file_list):\n",
    "        if ind%2000 == 0:\n",
    "            print(ind, file, file.rsplit('/')[0], all_classes.index(file.rsplit('/')[0]))\n",
    "print_sets()"
   ]
  },
  {
   "cell_type": "code",
   "execution_count": 68,
   "metadata": {
    "scrolled": true
   },
   "outputs": [
    {
     "name": "stdout",
     "output_type": "stream",
     "text": [
      "0 bird/de650823_nohash_0.wav\n",
      "2000 yes/d1a4fb3f_nohash_1.wav\n",
      "4000 bed/bf4af1af_nohash_0.wav\n",
      "6000 house/16d41d07_nohash_0.wav\n",
      "8000 seven/40115b19_nohash_0.wav\n",
      "10000 six/8d5d076d_nohash_0.wav\n",
      "12000 down/ee07dcb9_nohash_2.wav\n",
      "14000 nine/c08e5058_nohash_0.wav\n",
      "16000 dog/3d9200b9_nohash_1.wav\n",
      "18000 two/eb3f7d82_nohash_3.wav\n",
      "20000 no/20d3f11f_nohash_0.wav\n",
      "22000 eight/617de221_nohash_3.wav\n",
      "24000 right/7e783e3f_nohash_0.wav\n",
      "26000 go/784e281a_nohash_1.wav\n",
      "28000 four/9587481f_nohash_1.wav\n",
      "30000 tree/78622c2b_nohash_0.wav\n",
      "32000 zero/5aac2efa_nohash_0.wav\n",
      "34000 marvin/402e2977_nohash_0.wav\n",
      "36000 happy/530306f5_nohash_0.wav\n",
      "38000 sheila/19e98e89_nohash_0.wav\n",
      "40000 up/f7b43563_nohash_0.wav\n",
      "42000 three/2039b9c1_nohash_0.wav\n",
      "44000 three/24c9f572_nohash_0.wav\n",
      "46000 one/95ba4996_nohash_0.wav\n",
      "48000 five/e91d173e_nohash_0.wav\n",
      "50000 on/28460a60_nohash_0.wav\n",
      "52000 stop/2ad772d6_nohash_0.wav\n",
      "54000 stop/7f74626f_nohash_4.wav\n",
      "56000 left/86cb59b2_nohash_1.wav\n",
      "58000 off/8134f43f_nohash_3.wav\n"
     ]
    }
   ],
   "source": [
    "X_train, Y_train_all = create_sets() # takes a while\n",
    "# 0 yes/8a28231e_nohash_3.wav\n",
    "# 2000 yes/21307344_nohash_0.wav\n",
    "# 4000 silence/frag55_dude_miaowing.wav\n",
    "# 6000 nine/283d7a53_nohash_1.wav\n",
    "# 8000 four/31d31fa0_nohash_0.wav\n",
    "# 10000 wow/d84829e0_nohash_0.wav\n",
    "# 12000 five/173e6bbf_nohash_0.wav\n",
    "# 14000 stop/bbd0bbd0_nohash_4.wav\n",
    "# 16000 off/29fb33da_nohash_0.wav\n",
    "# 18000 zero/39543cfd_nohash_1.wav\n",
    "# 20000 tree/6a203e0e_nohash_3.wav\n",
    "# 22000 up/01b4757a_nohash_0.wav\n",
    "# 24000 six/21cbe292_nohash_0.wav\n",
    "# 26000 one/3b852f6f_nohash_0.wav\n",
    "# 28000 down/b959cd0c_nohash_4.wav\n",
    "# 30000 three/23abe1c9_nohash_1.wav\n",
    "# 32000 three/f953e1af_nohash_1.wav\n",
    "# 34000 right/75915c90_nohash_0.wav\n",
    "# 36000 eight/85b877b5_nohash_0.wav\n",
    "# 38000 no/88053e92_nohash_0.wav\n",
    "# 40000 two/a1c63f25_nohash_0.wav\n",
    "# 42000 two/c1d39ce8_nohash_8.wav\n",
    "# 44000 seven/72ca6a6d_nohash_0.wav\n",
    "# 46000 on/0137b3f4_nohash_3.wav\n",
    "# 48000 left/1b4c9b89_nohash_4.wav\n",
    "# 50000 dog/dfb6450b_nohash_0.wav\n",
    "# 52000 go/0137b3f4_nohash_2.wav\n",
    "# 54000 sheila/1ecfb537_nohash_0.wav\n",
    "# 56000 bed/129c7d8d_nohash_0.wav\n",
    "# 58000 bird/b9f46737_nohash_0.wav"
   ]
  },
  {
   "cell_type": "code",
   "execution_count": 70,
   "metadata": {},
   "outputs": [
    {
     "name": "stdout",
     "output_type": "stream",
     "text": [
      "30.0 11.0\n"
     ]
    }
   ],
   "source": [
    "# all unknown are index 11\n",
    "Y_train = np.where(Y_train_all < 11, Y_train_all, 11)\n",
    "print(max(Y_train_all), max(Y_train))"
   ]
  },
  {
   "cell_type": "code",
   "execution_count": 73,
   "metadata": {},
   "outputs": [
    {
     "name": "stdout",
     "output_type": "stream",
     "text": [
      "True False\n"
     ]
    }
   ],
   "source": [
    "print(len(Y_train) == len(Y_train_all), 12 in Y_train)"
   ]
  },
  {
   "cell_type": "code",
   "execution_count": 74,
   "metadata": {},
   "outputs": [
    {
     "data": {
      "text/plain": [
       "(58284, 122, 85)"
      ]
     },
     "execution_count": 74,
     "metadata": {},
     "output_type": "execute_result"
    }
   ],
   "source": [
    "X_train.shape"
   ]
  },
  {
   "cell_type": "code",
   "execution_count": 75,
   "metadata": {},
   "outputs": [
    {
     "data": {
      "text/plain": [
       "(58284,)"
      ]
     },
     "execution_count": 75,
     "metadata": {},
     "output_type": "execute_result"
    }
   ],
   "source": [
    "Y_train_all.shape"
   ]
  },
  {
   "cell_type": "code",
   "execution_count": 76,
   "metadata": {},
   "outputs": [
    {
     "data": {
      "text/plain": [
       "(58284,)"
      ]
     },
     "execution_count": 76,
     "metadata": {},
     "output_type": "execute_result"
    }
   ],
   "source": [
    "Y_train.shape"
   ]
  },
  {
   "cell_type": "code",
   "execution_count": 48,
   "metadata": {},
   "outputs": [
    {
     "data": {
      "text/plain": [
       "<matplotlib.collections.QuadMesh at 0x7f52a98ce690>"
      ]
     },
     "execution_count": 48,
     "metadata": {},
     "output_type": "execute_result"
    },
    {
     "data": {
      "image/png": "[encoded data removed]",
      "text/plain": [
       "<Figure size 432x288 with 1 Axes>"
      ]
     },
     "metadata": {
      "needs_background": "light"
     },
     "output_type": "display_data"
    }
   ],
   "source": [
    "librosa.display.specshow(X_train[6500], \n",
    "                         x_axis='mel', \n",
    "                         fmax=8000, \n",
    "                         y_axis='time', \n",
    "                         sr = 16000,\n",
    "                         hop_length = 128)"
   ]
  },
  {
   "cell_type": "code",
   "execution_count": 49,
   "metadata": {},
   "outputs": [
    {
     "name": "stdout",
     "output_type": "stream",
     "text": [
      "min:  -2.0306179523468018 \n",
      "max:  9.682740653715882e-08 \n",
      "mean:  -1.3092463950993087 \n",
      "median:  -1.3604838848114014 \n",
      "variance:  0.19674540582019645\n"
     ]
    }
   ],
   "source": [
    "print('min: ',np.min(X_train), \n",
    "      '\\nmax: ', np.max(X_train), \n",
    "      '\\nmean: ', np.mean(X_train),\n",
    "      '\\nmedian: ', np.median(X_train),\n",
    "      '\\nvariance: ', np.var(X_train))"
   ]
  },
  {
   "cell_type": "code",
   "execution_count": 50,
   "metadata": {
    "scrolled": true
   },
   "outputs": [
    {
     "data": {
      "text/plain": [
       "(array([ 1228700.,   145193.,  3275033.,  7532820., 82702849., 22856643.,\n",
       "        16916716., 16934780., 16204832., 16512884., 17009324., 17513318.,\n",
       "        18006801., 18386316., 18671256., 18840007., 18900284., 18844326.,\n",
       "        18653033., 18317694., 17825272., 17201050., 16471934., 15677920.,\n",
       "        14857082., 14017025., 13175033., 12328085., 11507932., 10715129.,\n",
       "         9952104.,  9217841.,  8526005.,  7883298.,  7285927.,  6744792.,\n",
       "         6243330.,  5773618.,  5308990.,  4840521.,  4362811.,  3882954.,\n",
       "         3373561.,  2829244.,  2268507.,  1743606.,  1304789.,   865260.,\n",
       "          526548.,   242103.]),\n",
       " array([-2.03061795e+00, -1.99000559e+00, -1.94939323e+00, -1.90878087e+00,\n",
       "        -1.86816851e+00, -1.82755615e+00, -1.78694379e+00, -1.74633143e+00,\n",
       "        -1.70571906e+00, -1.66510670e+00, -1.62449434e+00, -1.58388198e+00,\n",
       "        -1.54326962e+00, -1.50265726e+00, -1.46204490e+00, -1.42143254e+00,\n",
       "        -1.38082018e+00, -1.34020782e+00, -1.29959545e+00, -1.25898309e+00,\n",
       "        -1.21837073e+00, -1.17775837e+00, -1.13714601e+00, -1.09653365e+00,\n",
       "        -1.05592129e+00, -1.01530893e+00, -9.74696567e-01, -9.34084206e-01,\n",
       "        -8.93471845e-01, -8.52859484e-01, -8.12247123e-01, -7.71634762e-01,\n",
       "        -7.31022401e-01, -6.90410040e-01, -6.49797679e-01, -6.09185318e-01,\n",
       "        -5.68572957e-01, -5.27960596e-01, -4.87348235e-01, -4.46735874e-01,\n",
       "        -4.06123513e-01, -3.65511152e-01, -3.24898791e-01, -2.84286430e-01,\n",
       "        -2.43674069e-01, -2.03061708e-01, -1.62449347e-01, -1.21836986e-01,\n",
       "        -8.12246251e-02, -4.06122642e-02,  9.68274065e-08]),\n",
       " <BarContainer object of 50 artists>)"
      ]
     },
     "execution_count": 50,
     "metadata": {},
     "output_type": "execute_result"
    },
    {
     "data": {
      "image/png": "[encoded data removed]",
      "text/plain": [
       "<Figure size 432x288 with 1 Axes>"
      ]
     },
     "metadata": {
      "needs_background": "light"
     },
     "output_type": "display_data"
    }
   ],
   "source": [
    "plt.hist(X_train.flatten(), bins = 50)"
   ]
  },
  {
   "cell_type": "markdown",
   "metadata": {},
   "source": [
    "save the training sets, add channel dimension for keras,\n",
    "normalize around zero"
   ]
  },
  {
   "cell_type": "code",
   "execution_count": 78,
   "metadata": {},
   "outputs": [],
   "source": [
    "np.save('data/X_train.npy', np.expand_dims(X_train, -1) + np.mean(X_train))\n",
    "np.save('data/Y_train.npy', Y_train.astype(np.int))\n",
    "np.save('data/Y_train_all.npy', Y_train_all.astype(np.int))"
   ]
  },
  {
   "cell_type": "code",
   "execution_count": 81,
   "metadata": {},
   "outputs": [
    {
     "name": "stdout",
     "output_type": "stream",
     "text": [
      "0 seven/a7dd45cf_nohash_0.wav\n",
      "2000 sheila/b6ebe225_nohash_0.wav\n",
      "4000 bed/66cff190_nohash_2.wav\n",
      "6000 left/b41a92a3_nohash_0.wav\n"
     ]
    }
   ],
   "source": [
    "X_val, Y_val_all = create_sets(file_list = validation_list)"
   ]
  },
  {
   "cell_type": "code",
   "execution_count": 82,
   "metadata": {},
   "outputs": [
    {
     "data": {
      "text/plain": [
       "array([11.,  2., 11., ..., 11., 11.,  4.])"
      ]
     },
     "execution_count": 82,
     "metadata": {},
     "output_type": "execute_result"
    }
   ],
   "source": [
    "Y_val = np.where(Y_val_all < 11, Y_val_all, 11)\n",
    "Y_val"
   ]
  },
  {
   "cell_type": "code",
   "execution_count": 83,
   "metadata": {},
   "outputs": [
    {
     "data": {
      "text/plain": [
       "(array([  154936.,    18034.,   411637.,   957639., 10308868.,  2858924.,\n",
       "         2146576.,  2155732.,  2049893.,  2059556.,  2087883.,  2115106.,\n",
       "         2131919.,  2143095.,  2147224.,  2145546.,  2141189.,  2122355.,\n",
       "         2092996.,  2052542.,  2000360.,  1936404.,  1859412.,  1776115.,\n",
       "         1682198.,  1582751.,  1481108.,  1377721.,  1283718.,  1187675.,\n",
       "         1099677.,  1022037.,   947955.,   883073.,   819663.,   757221.,\n",
       "          703923.,   651081.,   595665.,   544450.,   492745.,   439754.,\n",
       "          384011.,   321145.,   257802.,   198562.,   146188.,    98628.,\n",
       "           61661.,    26077.]),\n",
       " array([-2.03061795e+00, -1.99000559e+00, -1.94939323e+00, -1.90878087e+00,\n",
       "        -1.86816851e+00, -1.82755615e+00, -1.78694379e+00, -1.74633143e+00,\n",
       "        -1.70571906e+00, -1.66510670e+00, -1.62449434e+00, -1.58388198e+00,\n",
       "        -1.54326962e+00, -1.50265726e+00, -1.46204490e+00, -1.42143254e+00,\n",
       "        -1.38082018e+00, -1.34020782e+00, -1.29959546e+00, -1.25898309e+00,\n",
       "        -1.21837073e+00, -1.17775837e+00, -1.13714601e+00, -1.09653365e+00,\n",
       "        -1.05592129e+00, -1.01530893e+00, -9.74696568e-01, -9.34084207e-01,\n",
       "        -8.93471846e-01, -8.52859485e-01, -8.12247124e-01, -7.71634763e-01,\n",
       "        -7.31022402e-01, -6.90410041e-01, -6.49797680e-01, -6.09185319e-01,\n",
       "        -5.68572958e-01, -5.27960597e-01, -4.87348236e-01, -4.46735875e-01,\n",
       "        -4.06123514e-01, -3.65511153e-01, -3.24898793e-01, -2.84286432e-01,\n",
       "        -2.43674071e-01, -2.03061710e-01, -1.62449349e-01, -1.21836988e-01,\n",
       "        -8.12246268e-02, -4.06122659e-02,  9.50593204e-08]),\n",
       " <BarContainer object of 50 artists>)"
      ]
     },
     "execution_count": 83,
     "metadata": {},
     "output_type": "execute_result"
    },
    {
     "data": {
      "image/png": "[encoded data removed]",
      "text/plain": [
       "<Figure size 432x288 with 1 Axes>"
      ]
     },
     "metadata": {
      "needs_background": "light"
     },
     "output_type": "display_data"
    }
   ],
   "source": [
    "plt.hist(X_val.flatten(), bins = 50)"
   ]
  },
  {
   "cell_type": "code",
   "execution_count": 85,
   "metadata": {},
   "outputs": [],
   "source": [
    "np.save('data/X_val.npy', np.expand_dims(X_val, -1) + np.mean(X_train))\n",
    "np.save('data/Y_val.npy', Y_val.astype(np.int))\n",
    "np.save('data/Y_val_all.npy', Y_val_all.astype(np.int))"
   ]
  },
  {
   "cell_type": "code",
   "execution_count": null,
   "metadata": {},
   "outputs": [],
   "source": []
  }
 ],
 "metadata": {
  "kernelspec": {
   "display_name": "Python 3",
   "language": "python",
   "name": "python3"
  },
  "language_info": {
   "codemirror_mode": {
    "name": "ipython",
    "version": 3
   },
   "file_extension": ".py",
   "mimetype": "text/x-python",
   "name": "python",
   "nbconvert_exporter": "python",
   "pygments_lexer": "ipython3",
   "version": "3.7.5"
  }
 },
 "nbformat": 4,
 "nbformat_minor": 2
}
