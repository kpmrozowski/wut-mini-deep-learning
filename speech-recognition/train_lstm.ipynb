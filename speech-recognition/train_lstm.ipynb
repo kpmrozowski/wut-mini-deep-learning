{
 "cells": [
  {
   "cell_type": "markdown",
   "metadata": {},
   "source": [
    "# Loading preprocessed data"
   ]
  },
  {
   "cell_type": "code",
   "execution_count": 172,
   "metadata": {},
   "outputs": [],
   "source": [
    "import numpy as np\n",
    "# import tensorflow as tf\n",
    "from tensorflow.keras.callbacks import ModelCheckpoint, TensorBoard, EarlyStopping\n",
    "from tensorflow.keras.utils import to_categorical, plot_model\n",
    "from tensorflow.keras import backend as K\n",
    "from tensorflow.keras.layers import BatchNormalization, Activation, Conv2D, Input, MaxPooling2D, Add, GlobalAveragePooling2D, Reshape, Bidirectional, Dense, Flatten, Dropout, SpatialDropout2D\n",
    "from tensorflow.keras.models import Model\n",
    "from keras.layers import CuDNNLSTM, RepeatVector\n",
    "from time import time\n",
    "from collections import Counter\n",
    "import matplotlib.pyplot as plt\n",
    "import os\n",
    "%matplotlib inline\n",
    "from sklearn.metrics import classification_report, confusion_matrix   \n",
    "import wave\n",
    "import matplotlib as mpl\n",
    "mpl.rcParams['figure.figsize'] = (20,7)"
   ]
  },
  {
   "cell_type": "code",
   "execution_count": 197,
   "metadata": {},
   "outputs": [],
   "source": [
    "class ResNetLstm():\n",
    "    \"\"\"\n",
    "    Usage: \n",
    "        sr = ResNetLstm([4,8,16], input_size=(50,50,1), output_size=12)\n",
    "        sr.build()\n",
    "        followed by sr.m.compile(loss='categorical_crossentropy', \n",
    "                                 optimizer='adadelta', metrics=[\"accuracy\"])\n",
    "        save plotted model with: \n",
    "            keras.utils.plot_model(sr.m, to_file = '<location>.png', \n",
    "                                   show_shapes=True)\n",
    "    \"\"\"\n",
    "    def __init__(self,\n",
    "                 filters_list=[], \n",
    "                 input_size=None, \n",
    "                 output_size=None,\n",
    "                 initializer='glorot_uniform'):\n",
    "        self.filters_list = filters_list\n",
    "        self.input_size = input_size\n",
    "        self.output_size = output_size\n",
    "        self.initializer = initializer\n",
    "        self.m = None        \n",
    "    \n",
    "    def _block(self, filters, inp):\n",
    "        \"\"\" one residual block in a ResNetLstm\n",
    "        \n",
    "        Args:\n",
    "            filters (int): number of convolutional filters\n",
    "            inp (tf.tensor): output from previous layer\n",
    "            \n",
    "        Returns:\n",
    "            tf.tensor: output of residual block\n",
    "        \"\"\"\n",
    "        layer_1 = BatchNormalization()(inp)\n",
    "        act_1 = Activation('relu')(layer_1)\n",
    "        conv_1 = Conv2D(filters, (3,3), \n",
    "                        padding = 'same', \n",
    "                        kernel_initializer = self.initializer)(act_1)\n",
    "        layer_2 = BatchNormalization()(conv_1)\n",
    "        act_2 = Activation('relu')(layer_2)\n",
    "        conv_2 = Conv2D(filters, (3,3), \n",
    "                        padding = 'same', \n",
    "                        kernel_initializer = self.initializer)(act_2)\n",
    "        return(conv_2)\n",
    "    def build(self):\n",
    "        \"\"\"\n",
    "        Returns:\n",
    "            keras.engine.training.Model\n",
    "        \"\"\"\n",
    "\n",
    "        print('1shapes: ', self.input_size)\n",
    "        i = Input(shape = self.input_size, name = 'input')\n",
    "        x = Conv2D(self.filters_list[0], (3,3), \n",
    "                   padding = 'same',\n",
    "                   kernel_initializer = self.initializer)(i)\n",
    "        print('2shapes: ', x.shape)\n",
    "        x = MaxPooling2D((1,3))(x)\n",
    "        # x = MaxPooling2D(padding = 'same')(x)\n",
    "        print('3shapes: ', x.shape)\n",
    "        x = Add()([self._block(self.filters_list[0], x),x])\n",
    "        x = Add()([self._block(self.filters_list[0], x),x])\n",
    "        x = Add()([self._block(self.filters_list[0], x),x])\n",
    "        if len(self.filters_list) > 1:\n",
    "            for filt in self.filters_list[1:]:\n",
    "                print(filt)\n",
    "                x = Conv2D(filt, (3,3),\n",
    "                           strides = (1,1),\n",
    "                           padding = 'same',\n",
    "                           activation = 'relu',\n",
    "                           kernel_initializer = self.initializer)(x)\n",
    "                x = MaxPooling2D((1,3))(x)\n",
    "                print('6shapes: ', x.shape)\n",
    "                x = Add()([self._block(filt, x),x])\n",
    "                x = Add()([self._block(filt, x),x])\n",
    "                x = Add()([self._block(filt, x),x])\n",
    "        # x = GlobalAveragePooling2D()(x)\n",
    "        \n",
    "        x = Reshape((85,4*32))(x)\n",
    "        print('7shapes: ', x.shape)\n",
    "        x = Bidirectional(CuDNNLSTM(64,return_sequences=True))(x)\n",
    "        print('8shapes: ', x.shape)\n",
    "        x = BatchNormalization()(x)\n",
    "        x = Activation('relu')(x)\n",
    "        x = Bidirectional(CuDNNLSTM(32,return_sequences=True))(x)\n",
    "        print('9shapes: ', x.shape)\n",
    "        x = Reshape((85,2*32))(x)\n",
    "        print('0shapes: ', x.shape)\n",
    "        print('output_size: ', self.output_size)\n",
    "        x = Flatten()(x)\n",
    "        print('1shapes: ', x.shape)\n",
    "        x = Dropout(0.2)(x)\n",
    "        \n",
    "        x = Dense(self.output_size, activation = 'softmax')(x)\n",
    "        print('2shapes: ', x.shape)\n",
    "        \n",
    "        self.m = Model(i,x)\n",
    "        return self.m"
   ]
  },
  {
   "cell_type": "code",
   "execution_count": 13,
   "metadata": {},
   "outputs": [],
   "source": [
    "# temporarely unused\n",
    "def load_wave(filename):\n",
    "   # Read file to get buffer                                                                                               \n",
    "   ifile = wave.open(filename)\n",
    "   samples = ifile.getnframes()\n",
    "   audio = ifile.readframes(samples)\n",
    "\n",
    "   # Convert buffer to float32 using NumPy                                                                                 \n",
    "   audio_as_np_int16 = np.frombuffer(audio, dtype=np.int16)\n",
    "   audio_as_np_float32 = audio_as_np_int16.astype(np.float32)\n",
    "\n",
    "   # Normalise float32 array so that values are between -1.0 and +1.0                                                      \n",
    "   max_int16 = 2**15\n",
    "   audio_normalised = audio_as_np_float32 / max_int16\n",
    "   return audio_normalised"
   ]
  },
  {
   "cell_type": "markdown",
   "metadata": {},
   "source": [
    "### import training and validation data (not included in repo)"
   ]
  },
  {
   "cell_type": "code",
   "execution_count": 177,
   "metadata": {},
   "outputs": [],
   "source": [
    "path = '/home2/faculty/kmrozowski/rl2/wut-mini-deep-learning/speech-recognition/'\n",
    "X_train = np.load(path+'data/X_train.npy').transpose((0,2,1,3))\n",
    "Y_train = np.load(path+'data/Y_train.npy')\n",
    "X_val = np.load(path+'data/X_val.npy').transpose((0,2,1,3))\n",
    "Y_val = np.load(path+'data/Y_val.npy')"
   ]
  },
  {
   "cell_type": "code",
   "execution_count": 178,
   "metadata": {},
   "outputs": [
    {
     "data": {
      "text/plain": [
       "(58284, 85, 122, 1)"
      ]
     },
     "execution_count": 178,
     "metadata": {},
     "output_type": "execute_result"
    }
   ],
   "source": [
    "X_train.shape\n",
    "# (58284, 122, 85, 1) -> (n_samples, frequencies, timestamps, 1)"
   ]
  },
  {
   "cell_type": "code",
   "execution_count": 179,
   "metadata": {},
   "outputs": [
    {
     "name": "stdout",
     "output_type": "stream",
     "text": [
      "['yes', 'no', 'up', 'down', 'left', 'right', 'on', 'off', 'stop', 'go', 'silence', 'zero', 'wow', 'two', 'tree', 'three', 'six', 'sheila', 'seven', 'one', 'nine', 'marvin', 'house', 'happy', 'four', 'five', 'eight', 'dog', 'cat', 'bird', 'bed']\n"
     ]
    }
   ],
   "source": [
    "path = '/dev/shm/kmrozowski/'\n",
    "classes = ['yes', 'no', \n",
    "           'up', 'down', \n",
    "           'left', 'right', \n",
    "           'on', 'off', \n",
    "           'stop', 'go', \n",
    "           'silence', 'unknown']\n",
    "all_classes = [x for x in classes[:11]]\n",
    "for ind, cl in enumerate(os.listdir(path + 'data/train/audio/')):\n",
    "    if cl not in classes:\n",
    "        all_classes.append(cl)\n",
    "print(all_classes)"
   ]
  },
  {
   "cell_type": "code",
   "execution_count": 180,
   "metadata": {},
   "outputs": [],
   "source": [
    "# for label in all_classes:\n",
    "#    print(data[label].shape, ':)')"
   ]
  },
  {
   "cell_type": "markdown",
   "metadata": {},
   "source": [
    "### The training data is very unbalanced with a much larger 'unknown' class. Keras has a class_weight paramter in the fit() function that will give higher penalties to missclassifications in underrepresented classes. It takes a dict like this:"
   ]
  },
  {
   "cell_type": "code",
   "execution_count": 181,
   "metadata": {},
   "outputs": [],
   "source": [
    "def get_class_weights(y):\n",
    "   counter = Counter(y)\n",
    "   majority = max(counter.values())\n",
    "   return  {cls: float(majority/count) for cls, count in counter.items()}  \n",
    "\n",
    "class_weights = get_class_weights(Y_train)\n"
   ]
  },
  {
   "cell_type": "code",
   "execution_count": 182,
   "metadata": {},
   "outputs": [
    {
     "data": {
      "text/plain": [
       "{11: 1.0,\n",
       " 0: 17.399810964083176,\n",
       " 3: 17.574224343675418,\n",
       " 10: 101.98891966759003,\n",
       " 1: 17.490736342042755,\n",
       " 5: 17.441023211747986,\n",
       " 9: 17.432765151515152,\n",
       " 2: 17.4080378250591,\n",
       " 6: 17.449289099526066,\n",
       " 8: 17.253045923149017,\n",
       " 4: 17.482431149097817,\n",
       " 7: 17.52403617325083}"
      ]
     },
     "execution_count": 182,
     "metadata": {},
     "output_type": "execute_result"
    }
   ],
   "source": [
    "class_weights"
   ]
  },
  {
   "cell_type": "markdown",
   "metadata": {},
   "source": [
    "some constants we need for all models"
   ]
  },
  {
   "cell_type": "code",
   "execution_count": 183,
   "metadata": {},
   "outputs": [],
   "source": [
    "input_size = X_train.shape[1:]\n",
    "batch_size = 196"
   ]
  },
  {
   "cell_type": "markdown",
   "metadata": {},
   "source": [
    "## The ResNet\n",
    "### declare filters for each block of blocks and set output size."
   ]
  },
  {
   "cell_type": "code",
   "execution_count": 184,
   "metadata": {},
   "outputs": [],
   "source": [
    "filters_list = [8,16,32]\n",
    "output_size = 12"
   ]
  },
  {
   "cell_type": "code",
   "execution_count": 185,
   "metadata": {},
   "outputs": [],
   "source": [
    "#adjust these strings for organizeing the saved files\n",
    "date = '20220430'\n",
    "arch = 'resnetlstm8_16_32_128'"
   ]
  },
  {
   "cell_type": "markdown",
   "metadata": {},
   "source": [
    "### Build the model"
   ]
  },
  {
   "cell_type": "code",
   "execution_count": 198,
   "metadata": {},
   "outputs": [
    {
     "name": "stdout",
     "output_type": "stream",
     "text": [
      "1shapes:  (85, 122, 1)\n",
      "2shapes:  (None, 85, 122, 8)\n",
      "3shapes:  (None, 85, 40, 8)\n",
      "16\n",
      "6shapes:  (None, 85, 13, 16)\n",
      "32\n",
      "6shapes:  (None, 85, 4, 32)\n",
      "7shapes:  (None, 85, 128)\n",
      "8shapes:  (None, 85, 128)\n",
      "9shapes:  (None, 85, 64)\n",
      "0shapes:  (None, 85, 64)\n",
      "output_size:  12\n",
      "1shapes:  (None, 5440)\n",
      "2shapes:  (None, 12)\n"
     ]
    }
   ],
   "source": [
    "sr = ResNetLstm(filters_list, input_size, output_size)\n",
    "sr.build()\n",
    "sr.m.compile(loss='categorical_crossentropy', \n",
    "             optimizer='adadelta', \n",
    "             metrics=['accuracy'])\n",
    "# 1shapes:  (85, 122, 1)\n",
    "# 2shapes:  (None, 85, 122, 1)\n",
    "# 3shapes:  (None, 85, 122, 8)\n",
    "# 4shapes:  (None, 43, 61, 8)\n",
    "# 1shapes:  (None, 22, 31, 16)\n",
    "# 1shapes:  (None, 11, 16, 32)\n",
    "# 5shapes:  (None, 32)\n",
    "# 6shapes:  (None, 12)\n",
    "\n",
    "# 1shapes:  (85, 122, 1)\n",
    "# 2shapes:  (None, 85, 122, 8)\n",
    "# 3shapes:  (None, 85, 40, 8)\n",
    "# 6shapes:  (None, 85, 40, 16)\n",
    "# 6shapes:  (None, 85, 40, 32)\n",
    "# 7shapes:  (None, 85, 1280)\n",
    "# 8shapes:  (None, 85, 256)\n",
    "# 9shapes:  (None, 85, 128)\n",
    "# 0shapes:  (None, 85, 128)\n",
    "# 1shapes:  (None, 10880)\n",
    "# 2shapes:  (None, 12)"
   ]
  },
  {
   "cell_type": "code",
   "execution_count": 199,
   "metadata": {},
   "outputs": [
    {
     "name": "stdout",
     "output_type": "stream",
     "text": [
      "Model: \"model_30\"\n",
      "__________________________________________________________________________________________________\n",
      " Layer (type)                   Output Shape         Param #     Connected to                     \n",
      "==================================================================================================\n",
      " input (InputLayer)             [(None, 85, 122, 1)  0           []                               \n",
      "                                ]                                                                 \n",
      "                                                                                                  \n",
      " conv2d_1289 (Conv2D)           (None, 85, 122, 8)   80          ['input[0][0]']                  \n",
      "                                                                                                  \n",
      " max_pooling2d_85 (MaxPooling2D  (None, 85, 40, 8)   0           ['conv2d_1289[0][0]']            \n",
      " )                                                                                                \n",
      "                                                                                                  \n",
      " batch_normalization_1140 (Batc  (None, 85, 40, 8)   32          ['max_pooling2d_85[0][0]']       \n",
      " hNormalization)                                                                                  \n",
      "                                                                                                  \n",
      " activation_1140 (Activation)   (None, 85, 40, 8)    0           ['batch_normalization_1140[0][0]'\n",
      "                                                                 ]                                \n",
      "                                                                                                  \n",
      " conv2d_1290 (Conv2D)           (None, 85, 40, 8)    584         ['activation_1140[0][0]']        \n",
      "                                                                                                  \n",
      " batch_normalization_1141 (Batc  (None, 85, 40, 8)   32          ['conv2d_1290[0][0]']            \n",
      " hNormalization)                                                                                  \n",
      "                                                                                                  \n",
      " activation_1141 (Activation)   (None, 85, 40, 8)    0           ['batch_normalization_1141[0][0]'\n",
      "                                                                 ]                                \n",
      "                                                                                                  \n",
      " conv2d_1291 (Conv2D)           (None, 85, 40, 8)    584         ['activation_1141[0][0]']        \n",
      "                                                                                                  \n",
      " add_582 (Add)                  (None, 85, 40, 8)    0           ['conv2d_1291[0][0]',            \n",
      "                                                                  'max_pooling2d_85[0][0]']       \n",
      "                                                                                                  \n",
      " batch_normalization_1142 (Batc  (None, 85, 40, 8)   32          ['add_582[0][0]']                \n",
      " hNormalization)                                                                                  \n",
      "                                                                                                  \n",
      " activation_1142 (Activation)   (None, 85, 40, 8)    0           ['batch_normalization_1142[0][0]'\n",
      "                                                                 ]                                \n",
      "                                                                                                  \n",
      " conv2d_1292 (Conv2D)           (None, 85, 40, 8)    584         ['activation_1142[0][0]']        \n",
      "                                                                                                  \n",
      " batch_normalization_1143 (Batc  (None, 85, 40, 8)   32          ['conv2d_1292[0][0]']            \n",
      " hNormalization)                                                                                  \n",
      "                                                                                                  \n",
      " activation_1143 (Activation)   (None, 85, 40, 8)    0           ['batch_normalization_1143[0][0]'\n",
      "                                                                 ]                                \n",
      "                                                                                                  \n",
      " conv2d_1293 (Conv2D)           (None, 85, 40, 8)    584         ['activation_1143[0][0]']        \n",
      "                                                                                                  \n",
      " add_583 (Add)                  (None, 85, 40, 8)    0           ['conv2d_1293[0][0]',            \n",
      "                                                                  'add_582[0][0]']                \n",
      "                                                                                                  \n",
      " batch_normalization_1144 (Batc  (None, 85, 40, 8)   32          ['add_583[0][0]']                \n",
      " hNormalization)                                                                                  \n",
      "                                                                                                  \n",
      " activation_1144 (Activation)   (None, 85, 40, 8)    0           ['batch_normalization_1144[0][0]'\n",
      "                                                                 ]                                \n",
      "                                                                                                  \n",
      " conv2d_1294 (Conv2D)           (None, 85, 40, 8)    584         ['activation_1144[0][0]']        \n",
      "                                                                                                  \n",
      " batch_normalization_1145 (Batc  (None, 85, 40, 8)   32          ['conv2d_1294[0][0]']            \n",
      " hNormalization)                                                                                  \n",
      "                                                                                                  \n",
      " activation_1145 (Activation)   (None, 85, 40, 8)    0           ['batch_normalization_1145[0][0]'\n",
      "                                                                 ]                                \n",
      "                                                                                                  \n",
      " conv2d_1295 (Conv2D)           (None, 85, 40, 8)    584         ['activation_1145[0][0]']        \n",
      "                                                                                                  \n",
      " add_584 (Add)                  (None, 85, 40, 8)    0           ['conv2d_1295[0][0]',            \n",
      "                                                                  'add_583[0][0]']                \n",
      "                                                                                                  \n",
      " conv2d_1296 (Conv2D)           (None, 85, 40, 16)   1168        ['add_584[0][0]']                \n",
      "                                                                                                  \n",
      " max_pooling2d_86 (MaxPooling2D  (None, 85, 13, 16)  0           ['conv2d_1296[0][0]']            \n",
      " )                                                                                                \n",
      "                                                                                                  \n",
      " batch_normalization_1146 (Batc  (None, 85, 13, 16)  64          ['max_pooling2d_86[0][0]']       \n",
      " hNormalization)                                                                                  \n",
      "                                                                                                  \n",
      " activation_1146 (Activation)   (None, 85, 13, 16)   0           ['batch_normalization_1146[0][0]'\n",
      "                                                                 ]                                \n",
      "                                                                                                  \n",
      " conv2d_1297 (Conv2D)           (None, 85, 13, 16)   2320        ['activation_1146[0][0]']        \n",
      "                                                                                                  \n",
      " batch_normalization_1147 (Batc  (None, 85, 13, 16)  64          ['conv2d_1297[0][0]']            \n",
      " hNormalization)                                                                                  \n",
      "                                                                                                  \n",
      " activation_1147 (Activation)   (None, 85, 13, 16)   0           ['batch_normalization_1147[0][0]'\n",
      "                                                                 ]                                \n",
      "                                                                                                  \n",
      " conv2d_1298 (Conv2D)           (None, 85, 13, 16)   2320        ['activation_1147[0][0]']        \n",
      "                                                                                                  \n",
      " add_585 (Add)                  (None, 85, 13, 16)   0           ['conv2d_1298[0][0]',            \n",
      "                                                                  'max_pooling2d_86[0][0]']       \n",
      "                                                                                                  \n",
      " batch_normalization_1148 (Batc  (None, 85, 13, 16)  64          ['add_585[0][0]']                \n",
      " hNormalization)                                                                                  \n",
      "                                                                                                  \n",
      " activation_1148 (Activation)   (None, 85, 13, 16)   0           ['batch_normalization_1148[0][0]'\n",
      "                                                                 ]                                \n",
      "                                                                                                  \n",
      " conv2d_1299 (Conv2D)           (None, 85, 13, 16)   2320        ['activation_1148[0][0]']        \n",
      "                                                                                                  \n",
      " batch_normalization_1149 (Batc  (None, 85, 13, 16)  64          ['conv2d_1299[0][0]']            \n",
      " hNormalization)                                                                                  \n",
      "                                                                                                  \n",
      " activation_1149 (Activation)   (None, 85, 13, 16)   0           ['batch_normalization_1149[0][0]'\n",
      "                                                                 ]                                \n",
      "                                                                                                  \n",
      " conv2d_1300 (Conv2D)           (None, 85, 13, 16)   2320        ['activation_1149[0][0]']        \n",
      "                                                                                                  \n",
      " add_586 (Add)                  (None, 85, 13, 16)   0           ['conv2d_1300[0][0]',            \n",
      "                                                                  'add_585[0][0]']                \n",
      "                                                                                                  \n",
      " batch_normalization_1150 (Batc  (None, 85, 13, 16)  64          ['add_586[0][0]']                \n",
      " hNormalization)                                                                                  \n",
      "                                                                                                  \n",
      " activation_1150 (Activation)   (None, 85, 13, 16)   0           ['batch_normalization_1150[0][0]'\n",
      "                                                                 ]                                \n",
      "                                                                                                  \n",
      " conv2d_1301 (Conv2D)           (None, 85, 13, 16)   2320        ['activation_1150[0][0]']        \n",
      "                                                                                                  \n",
      " batch_normalization_1151 (Batc  (None, 85, 13, 16)  64          ['conv2d_1301[0][0]']            \n",
      " hNormalization)                                                                                  \n",
      "                                                                                                  \n",
      " activation_1151 (Activation)   (None, 85, 13, 16)   0           ['batch_normalization_1151[0][0]'\n",
      "                                                                 ]                                \n",
      "                                                                                                  \n",
      " conv2d_1302 (Conv2D)           (None, 85, 13, 16)   2320        ['activation_1151[0][0]']        \n",
      "                                                                                                  \n",
      " add_587 (Add)                  (None, 85, 13, 16)   0           ['conv2d_1302[0][0]',            \n",
      "                                                                  'add_586[0][0]']                \n",
      "                                                                                                  \n",
      " conv2d_1303 (Conv2D)           (None, 85, 13, 32)   4640        ['add_587[0][0]']                \n",
      "                                                                                                  \n",
      " max_pooling2d_87 (MaxPooling2D  (None, 85, 4, 32)   0           ['conv2d_1303[0][0]']            \n",
      " )                                                                                                \n",
      "                                                                                                  \n",
      " batch_normalization_1152 (Batc  (None, 85, 4, 32)   128         ['max_pooling2d_87[0][0]']       \n",
      " hNormalization)                                                                                  \n",
      "                                                                                                  \n",
      " activation_1152 (Activation)   (None, 85, 4, 32)    0           ['batch_normalization_1152[0][0]'\n",
      "                                                                 ]                                \n",
      "                                                                                                  \n",
      " conv2d_1304 (Conv2D)           (None, 85, 4, 32)    9248        ['activation_1152[0][0]']        \n",
      "                                                                                                  \n",
      " batch_normalization_1153 (Batc  (None, 85, 4, 32)   128         ['conv2d_1304[0][0]']            \n",
      " hNormalization)                                                                                  \n",
      "                                                                                                  \n",
      " activation_1153 (Activation)   (None, 85, 4, 32)    0           ['batch_normalization_1153[0][0]'\n",
      "                                                                 ]                                \n",
      "                                                                                                  \n",
      " conv2d_1305 (Conv2D)           (None, 85, 4, 32)    9248        ['activation_1153[0][0]']        \n",
      "                                                                                                  \n",
      " add_588 (Add)                  (None, 85, 4, 32)    0           ['conv2d_1305[0][0]',            \n",
      "                                                                  'max_pooling2d_87[0][0]']       \n",
      "                                                                                                  \n",
      " batch_normalization_1154 (Batc  (None, 85, 4, 32)   128         ['add_588[0][0]']                \n",
      " hNormalization)                                                                                  \n",
      "                                                                                                  \n",
      " activation_1154 (Activation)   (None, 85, 4, 32)    0           ['batch_normalization_1154[0][0]'\n",
      "                                                                 ]                                \n",
      "                                                                                                  \n",
      " conv2d_1306 (Conv2D)           (None, 85, 4, 32)    9248        ['activation_1154[0][0]']        \n",
      "                                                                                                  \n",
      " batch_normalization_1155 (Batc  (None, 85, 4, 32)   128         ['conv2d_1306[0][0]']            \n",
      " hNormalization)                                                                                  \n",
      "                                                                                                  \n",
      " activation_1155 (Activation)   (None, 85, 4, 32)    0           ['batch_normalization_1155[0][0]'\n",
      "                                                                 ]                                \n",
      "                                                                                                  \n",
      " conv2d_1307 (Conv2D)           (None, 85, 4, 32)    9248        ['activation_1155[0][0]']        \n",
      "                                                                                                  \n",
      " add_589 (Add)                  (None, 85, 4, 32)    0           ['conv2d_1307[0][0]',            \n",
      "                                                                  'add_588[0][0]']                \n",
      "                                                                                                  \n",
      " batch_normalization_1156 (Batc  (None, 85, 4, 32)   128         ['add_589[0][0]']                \n",
      " hNormalization)                                                                                  \n",
      "                                                                                                  \n",
      " activation_1156 (Activation)   (None, 85, 4, 32)    0           ['batch_normalization_1156[0][0]'\n",
      "                                                                 ]                                \n",
      "                                                                                                  \n",
      " conv2d_1308 (Conv2D)           (None, 85, 4, 32)    9248        ['activation_1156[0][0]']        \n",
      "                                                                                                  \n",
      " batch_normalization_1157 (Batc  (None, 85, 4, 32)   128         ['conv2d_1308[0][0]']            \n",
      " hNormalization)                                                                                  \n",
      "                                                                                                  \n",
      " activation_1157 (Activation)   (None, 85, 4, 32)    0           ['batch_normalization_1157[0][0]'\n",
      "                                                                 ]                                \n",
      "                                                                                                  \n",
      " conv2d_1309 (Conv2D)           (None, 85, 4, 32)    9248        ['activation_1157[0][0]']        \n",
      "                                                                                                  \n",
      " add_590 (Add)                  (None, 85, 4, 32)    0           ['conv2d_1309[0][0]',            \n",
      "                                                                  'add_589[0][0]']                \n",
      "                                                                                                  \n",
      " reshape_94 (Reshape)           (None, 85, 128)      0           ['add_590[0][0]']                \n",
      "                                                                                                  \n",
      " bidirectional_79 (Bidirectiona  (None, 85, 128)     99328       ['reshape_94[0][0]']             \n",
      " l)                                                                                               \n",
      "                                                                                                  \n",
      " batch_normalization_1158 (Batc  (None, 85, 128)     512         ['bidirectional_79[0][0]']       \n",
      " hNormalization)                                                                                  \n",
      "                                                                                                  \n",
      " activation_1158 (Activation)   (None, 85, 128)      0           ['batch_normalization_1158[0][0]'\n",
      "                                                                 ]                                \n",
      "                                                                                                  \n",
      " bidirectional_80 (Bidirectiona  (None, 85, 64)      41472       ['activation_1158[0][0]']        \n",
      " l)                                                                                               \n",
      "                                                                                                  \n",
      " reshape_95 (Reshape)           (None, 85, 64)       0           ['bidirectional_80[0][0]']       \n",
      "                                                                                                  \n",
      " flatten_15 (Flatten)           (None, 5440)         0           ['reshape_95[0][0]']             \n",
      "                                                                                                  \n",
      " dropout_52 (Dropout)           (None, 5440)         0           ['flatten_15[0][0]']             \n",
      "                                                                                                  \n",
      " dense_34 (Dense)               (None, 12)           65292       ['dropout_52[0][0]']             \n",
      "                                                                                                  \n",
      "==================================================================================================\n",
      "Total params: 286,748\n",
      "Trainable params: 285,820\n",
      "Non-trainable params: 928\n",
      "__________________________________________________________________________________________________\n"
     ]
    }
   ],
   "source": [
    "sr.m.summary()\n",
    "# Total params: 80,540\n",
    "# Trainable params: 79,868\n",
    "# Non-trainable params: 672\n",
    "\n",
    "# Total params: 286,748\n",
    "# Trainable params: 285,820\n",
    "# Non-trainable params: 928"
   ]
  },
  {
   "cell_type": "code",
   "execution_count": 200,
   "metadata": {},
   "outputs": [
    {
     "name": "stdout",
     "output_type": "stream",
     "text": [
      "('You must install pydot (`pip install pydot`) and install graphviz (see instructions at https://graphviz.gitlab.io/download/) ', 'for plot_model/model_to_dot to work.')\n"
     ]
    }
   ],
   "source": [
    "# to save a png of the model you need pydot and graphviz installed\n",
    "plot_model(sr.m,\n",
    "           to_file = './models/{}_{}.png'.format(arch,date), \n",
    "           show_shapes = True)"
   ]
  },
  {
   "cell_type": "code",
   "execution_count": 201,
   "metadata": {},
   "outputs": [],
   "source": [
    "#callbacks, remember to make folders to store files \n",
    "checkpointer = ModelCheckpoint(filepath='./models/{}_{}_best.h5'.format(arch, date),\n",
    "                               verbose=0,\n",
    "                               save_best_only=True)\n",
    "   \n",
    "earlystopping = EarlyStopping()\n",
    "\n",
    "tensorboard = TensorBoard(log_dir = './logs/{}_{}'.format(date, time()), \n",
    "                          histogram_freq = 0, \n",
    "                          write_graph = True, \n",
    "                          write_images = True)"
   ]
  },
  {
   "cell_type": "markdown",
   "metadata": {},
   "source": [
    "### Train the model. The history object stores training data for later access, like plotting training curves"
   ]
  },
  {
   "cell_type": "code",
   "execution_count": 202,
   "metadata": {},
   "outputs": [
    {
     "name": "stdout",
     "output_type": "stream",
     "text": [
      "Epoch 1/2000\n",
      "WARNING:tensorflow:AutoGraph could not transform <function Model.make_train_function.<locals>.train_function at 0x7f5f9e1013b0> and will run it as-is.\n",
      "Please report this to the TensorFlow team. When filing the bug, set the verbosity to 10 (on Linux, `export AUTOGRAPH_VERBOSITY=10`) and attach the full output.\n",
      "Cause: 'arguments' object has no attribute 'posonlyargs'\n",
      "To silence this warning, decorate the function with @tf.autograph.experimental.do_not_convert\n",
      "WARNING: AutoGraph could not transform <function Model.make_train_function.<locals>.train_function at 0x7f5f9e1013b0> and will run it as-is.\n",
      "Please report this to the TensorFlow team. When filing the bug, set the verbosity to 10 (on Linux, `export AUTOGRAPH_VERBOSITY=10`) and attach the full output.\n",
      "Cause: 'arguments' object has no attribute 'posonlyargs'\n",
      "To silence this warning, decorate the function with @tf.autograph.experimental.do_not_convert\n"
     ]
    }
   ],
   "source": [
    "history = sr.m.fit(X_train, \n",
    "                   to_categorical(Y_train), \n",
    "                   batch_size = batch_size, \n",
    "                   epochs = 2000,\n",
    "                   verbose = 1, shuffle = True, \n",
    "                   class_weight = class_weights,\n",
    "                   validation_data = (X_val, to_categorical(Y_val)), \n",
    "                   callbacks = [checkpointer, tensorboard]) # add more callbacks if you want"
   ]
  },
  {
   "cell_type": "code",
   "execution_count": null,
   "metadata": {},
   "outputs": [],
   "source": [
    "sr.m.save_weights(\"./models/{}_{}_last.h5\".format(arch, date)) "
   ]
  },
  {
   "cell_type": "markdown",
   "metadata": {},
   "source": [
    "### Plot the training graphs, and save them"
   ]
  },
  {
   "cell_type": "code",
   "execution_count": null,
   "metadata": {
    "scrolled": true
   },
   "outputs": [
    {
     "name": "stdout",
     "output_type": "stream",
     "text": [
      "dict_keys(['loss', 'accuracy', 'val_loss', 'val_accuracy'])\n"
     ]
    },
    {
     "data": {
      "image/png": "[encoded data removed]",
      "text/plain": [
       "<Figure size 1440x504 with 1 Axes>"
      ]
     },
     "metadata": {
      "needs_background": "light"
     },
     "output_type": "display_data"
    },
    {
     "data": {
      "image/png": "[encoded data removed]",
      "text/plain": [
       "<Figure size 1440x504 with 1 Axes>"
      ]
     },
     "metadata": {
      "needs_background": "light"
     },
     "output_type": "display_data"
    }
   ],
   "source": [
    "#%% visualize training\n",
    "print(history.history.keys())\n",
    "# summarize history for accuracy\n",
    "plt.plot(history.history['accuracy'])\n",
    "plt.plot(history.history['val_accuracy'])\n",
    "plt.title('model accuracy')\n",
    "plt.ylabel('accuracy')\n",
    "plt.xlabel('epoch')\n",
    "plt.legend(['train', 'test'], loc='upper left')\n",
    "plt.savefig('graphs/{}_{}_acc.png'.format(arch, date),bbox_inches='tight')\n",
    "plt.show()\n",
    "# summarize history for loss\n",
    "plt.plot(history.history['loss'])\n",
    "plt.plot(history.history['val_loss'])\n",
    "plt.title('model loss')\n",
    "plt.ylabel('loss')\n",
    "plt.xlabel('epoch')\n",
    "plt.legend(['train', 'test'], loc='upper left')\n",
    "plt.savefig('graphs/{}_{}_loss.png'.format(arch, date), bbox_inches='tight')\n",
    "plt.show()"
   ]
  },
  {
   "cell_type": "markdown",
   "metadata": {},
   "source": [
    "### Predict the validation classification and score"
   ]
  },
  {
   "cell_type": "code",
   "execution_count": null,
   "metadata": {},
   "outputs": [
    {
     "name": "stdout",
     "output_type": "stream",
     "text": [
      "35/35 [==============================] - 1s 17ms/step\n"
     ]
    }
   ],
   "source": [
    "val_pred = sr.m.predict(X_val, batch_size = batch_size, verbose = 1)"
   ]
  },
  {
   "cell_type": "code",
   "execution_count": 15,
   "metadata": {},
   "outputs": [
    {
     "name": "stdout",
     "output_type": "stream",
     "text": [
      "              precision    recall  f1-score   support\n",
      "\n",
      "         yes      0.000     0.000     0.000       261\n",
      "          no      0.000     0.000     0.000       270\n",
      "          up      0.000     0.000     0.000       260\n",
      "        down      0.041     0.981     0.079       264\n",
      "        left      0.000     0.000     0.000       247\n",
      "       right      0.000     0.000     0.000       256\n",
      "          on      0.000     0.000     0.000       257\n",
      "         off      0.000     0.000     0.000       256\n",
      "        stop      0.000     0.000     0.000       246\n",
      "          go      0.031     0.069     0.043       260\n",
      "     silence      0.000     0.000     0.000        41\n",
      "     unknown      0.000     0.000     0.000      4221\n",
      "\n",
      "    accuracy                          0.041      6839\n",
      "   macro avg      0.006     0.088     0.010      6839\n",
      "weighted avg      0.003     0.041     0.005      6839\n",
      "\n"
     ]
    },
    {
     "name": "stderr",
     "output_type": "stream",
     "text": [
      "/usr/local/lib/python3.7/dist-packages/sklearn/metrics/_classification.py:1308: UndefinedMetricWarning: Precision and F-score are ill-defined and being set to 0.0 in labels with no predicted samples. Use `zero_division` parameter to control this behavior.\n",
      "  _warn_prf(average, modifier, msg_start, len(result))\n",
      "/usr/local/lib/python3.7/dist-packages/sklearn/metrics/_classification.py:1308: UndefinedMetricWarning: Precision and F-score are ill-defined and being set to 0.0 in labels with no predicted samples. Use `zero_division` parameter to control this behavior.\n",
      "  _warn_prf(average, modifier, msg_start, len(result))\n",
      "/usr/local/lib/python3.7/dist-packages/sklearn/metrics/_classification.py:1308: UndefinedMetricWarning: Precision and F-score are ill-defined and being set to 0.0 in labels with no predicted samples. Use `zero_division` parameter to control this behavior.\n",
      "  _warn_prf(average, modifier, msg_start, len(result))\n"
     ]
    }
   ],
   "source": [
    "print(classification_report(Y_val, np.argmax(val_pred, axis = 1), target_names = classes, digits = 3))"
   ]
  },
  {
   "cell_type": "code",
   "execution_count": 18,
   "metadata": {
    "scrolled": true
   },
   "outputs": [
    {
     "name": "stdout",
     "output_type": "stream",
     "text": [
      "[[   0    0    0  199    0    0    0    0    0   62    0    0]\n",
      " [   0    0    0  262    0    0    0    0    0    8    0    0]\n",
      " [   0    0    0  227    0    0    0    0    0   33    0    0]\n",
      " [   0    0    0  259    0    0    0    0    0    5    0    0]\n",
      " [   0    0    0  228    0    0    0    0    0   19    0    0]\n",
      " [   0    0    0  246    0    0    0    0    0   10    0    0]\n",
      " [   0    0    0  244    0    0    0    0    0   13    0    0]\n",
      " [   0    0    0  239    0    0    0    0    0   17    0    0]\n",
      " [   0    0    0  204    0    0    0    0    0   42    0    0]\n",
      " [   0    0    0  242    0    0    0    0    0   18    0    0]\n",
      " [   0    0    0   41    0    0    0    0    0    0    0    0]\n",
      " [   0    0    0 3865    0    0    0    0    0  356    0    0]]\n"
     ]
    }
   ],
   "source": [
    "print(confusion_matrix(Y_val, np.argmax(val_pred, axis = 1)))"
   ]
  },
  {
   "cell_type": "code",
   "execution_count": 17,
   "metadata": {},
   "outputs": [
    {
     "ename": "ValueError",
     "evalue": "At least one label specified must be in y_true",
     "output_type": "error",
     "traceback": [
      "\u001b[0;31m---------------------------------------------------------------------------\u001b[0m",
      "\u001b[0;31mValueError\u001b[0m                                Traceback (most recent call last)",
      "\u001b[0;32m/tmp/ipykernel_41884/690878981.py\u001b[0m in \u001b[0;36m<module>\u001b[0;34m\u001b[0m\n\u001b[1;32m      1\u001b[0m \u001b[0mplt\u001b[0m\u001b[0;34m.\u001b[0m\u001b[0mfigure\u001b[0m\u001b[0;34m(\u001b[0m\u001b[0mfigsize\u001b[0m \u001b[0;34m=\u001b[0m \u001b[0;34m(\u001b[0m\u001b[0;36m8\u001b[0m\u001b[0;34m,\u001b[0m\u001b[0;36m8\u001b[0m\u001b[0;34m)\u001b[0m\u001b[0;34m)\u001b[0m\u001b[0;34m\u001b[0m\u001b[0;34m\u001b[0m\u001b[0m\n\u001b[0;32m----> 2\u001b[0;31m \u001b[0mplt\u001b[0m\u001b[0;34m.\u001b[0m\u001b[0mimshow\u001b[0m\u001b[0;34m(\u001b[0m\u001b[0mconfusion_matrix\u001b[0m\u001b[0;34m(\u001b[0m\u001b[0mY_val\u001b[0m\u001b[0;34m,\u001b[0m \u001b[0mnp\u001b[0m\u001b[0;34m.\u001b[0m\u001b[0margmax\u001b[0m\u001b[0;34m(\u001b[0m\u001b[0mval_pred\u001b[0m\u001b[0;34m,\u001b[0m \u001b[0maxis\u001b[0m \u001b[0;34m=\u001b[0m \u001b[0;36m1\u001b[0m\u001b[0;34m)\u001b[0m\u001b[0;34m,\u001b[0m \u001b[0mlabels\u001b[0m \u001b[0;34m=\u001b[0m \u001b[0mclasses\u001b[0m\u001b[0;34m)\u001b[0m\u001b[0;34m)\u001b[0m\u001b[0;34m\u001b[0m\u001b[0;34m\u001b[0m\u001b[0m\n\u001b[0m\u001b[1;32m      3\u001b[0m \u001b[0mplt\u001b[0m\u001b[0;34m.\u001b[0m\u001b[0mxticks\u001b[0m\u001b[0;34m(\u001b[0m\u001b[0mnp\u001b[0m\u001b[0;34m.\u001b[0m\u001b[0marange\u001b[0m\u001b[0;34m(\u001b[0m\u001b[0;36m0\u001b[0m\u001b[0;34m,\u001b[0m \u001b[0mlen\u001b[0m\u001b[0;34m(\u001b[0m\u001b[0mclasses\u001b[0m\u001b[0;34m)\u001b[0m\u001b[0;34m)\u001b[0m\u001b[0;34m,\u001b[0m \u001b[0mclasses\u001b[0m\u001b[0;34m,\u001b[0m \u001b[0mrotation\u001b[0m \u001b[0;34m=\u001b[0m \u001b[0;34m'vertical'\u001b[0m\u001b[0;34m,\u001b[0m \u001b[0msize\u001b[0m \u001b[0;34m=\u001b[0m \u001b[0;36m12\u001b[0m\u001b[0;34m)\u001b[0m\u001b[0;34m\u001b[0m\u001b[0;34m\u001b[0m\u001b[0m\n\u001b[1;32m      4\u001b[0m \u001b[0mplt\u001b[0m\u001b[0;34m.\u001b[0m\u001b[0myticks\u001b[0m\u001b[0;34m(\u001b[0m\u001b[0mnp\u001b[0m\u001b[0;34m.\u001b[0m\u001b[0marange\u001b[0m\u001b[0;34m(\u001b[0m\u001b[0;36m0\u001b[0m\u001b[0;34m,\u001b[0m \u001b[0mlen\u001b[0m\u001b[0;34m(\u001b[0m\u001b[0mclasses\u001b[0m\u001b[0;34m)\u001b[0m\u001b[0;34m)\u001b[0m\u001b[0;34m,\u001b[0m \u001b[0mclasses\u001b[0m\u001b[0;34m,\u001b[0m \u001b[0msize\u001b[0m \u001b[0;34m=\u001b[0m \u001b[0;36m12\u001b[0m\u001b[0;34m)\u001b[0m\u001b[0;34m\u001b[0m\u001b[0;34m\u001b[0m\u001b[0m\n\u001b[1;32m      5\u001b[0m \u001b[0mplt\u001b[0m\u001b[0;34m.\u001b[0m\u001b[0mshow\u001b[0m\u001b[0;34m(\u001b[0m\u001b[0;34m)\u001b[0m\u001b[0;34m\u001b[0m\u001b[0;34m\u001b[0m\u001b[0m\n",
      "\u001b[0;32m/usr/local/lib/python3.7/dist-packages/sklearn/metrics/_classification.py\u001b[0m in \u001b[0;36mconfusion_matrix\u001b[0;34m(y_true, y_pred, labels, sample_weight, normalize)\u001b[0m\n\u001b[1;32m    314\u001b[0m             \u001b[0;32mreturn\u001b[0m \u001b[0mnp\u001b[0m\u001b[0;34m.\u001b[0m\u001b[0mzeros\u001b[0m\u001b[0;34m(\u001b[0m\u001b[0;34m(\u001b[0m\u001b[0mn_labels\u001b[0m\u001b[0;34m,\u001b[0m \u001b[0mn_labels\u001b[0m\u001b[0;34m)\u001b[0m\u001b[0;34m,\u001b[0m \u001b[0mdtype\u001b[0m\u001b[0;34m=\u001b[0m\u001b[0mint\u001b[0m\u001b[0;34m)\u001b[0m\u001b[0;34m\u001b[0m\u001b[0;34m\u001b[0m\u001b[0m\n\u001b[1;32m    315\u001b[0m         \u001b[0;32melif\u001b[0m \u001b[0mlen\u001b[0m\u001b[0;34m(\u001b[0m\u001b[0mnp\u001b[0m\u001b[0;34m.\u001b[0m\u001b[0mintersect1d\u001b[0m\u001b[0;34m(\u001b[0m\u001b[0my_true\u001b[0m\u001b[0;34m,\u001b[0m \u001b[0mlabels\u001b[0m\u001b[0;34m)\u001b[0m\u001b[0;34m)\u001b[0m \u001b[0;34m==\u001b[0m \u001b[0;36m0\u001b[0m\u001b[0;34m:\u001b[0m\u001b[0;34m\u001b[0m\u001b[0;34m\u001b[0m\u001b[0m\n\u001b[0;32m--> 316\u001b[0;31m             \u001b[0;32mraise\u001b[0m \u001b[0mValueError\u001b[0m\u001b[0;34m(\u001b[0m\u001b[0;34m\"At least one label specified must be in y_true\"\u001b[0m\u001b[0;34m)\u001b[0m\u001b[0;34m\u001b[0m\u001b[0;34m\u001b[0m\u001b[0m\n\u001b[0m\u001b[1;32m    317\u001b[0m \u001b[0;34m\u001b[0m\u001b[0m\n\u001b[1;32m    318\u001b[0m     \u001b[0;32mif\u001b[0m \u001b[0msample_weight\u001b[0m \u001b[0;32mis\u001b[0m \u001b[0;32mNone\u001b[0m\u001b[0;34m:\u001b[0m\u001b[0;34m\u001b[0m\u001b[0;34m\u001b[0m\u001b[0m\n",
      "\u001b[0;31mValueError\u001b[0m: At least one label specified must be in y_true"
     ]
    },
    {
     "data": {
      "text/plain": [
       "<Figure size 576x576 with 0 Axes>"
      ]
     },
     "metadata": {},
     "output_type": "display_data"
    }
   ],
   "source": [
    "plt.figure(figsize = (8,8))\n",
    "plt.imshow(confusion_matrix(Y_val, np.argmax(val_pred, axis = 1), labels = classes))\n",
    "plt.xticks(np.arange(0, len(classes)), classes, rotation = 'vertical', size = 12)\n",
    "plt.yticks(np.arange(0, len(classes)), classes, size = 12)\n",
    "plt.show()"
   ]
  },
  {
   "cell_type": "code",
   "execution_count": null,
   "metadata": {},
   "outputs": [],
   "source": []
  }
 ],
 "metadata": {
  "kernelspec": {
   "display_name": "Python 3 (ipykernel)",
   "language": "python",
   "name": "python3"
  },
  "language_info": {
   "codemirror_mode": {
    "name": "ipython",
    "version": 3
   },
   "file_extension": ".py",
   "mimetype": "text/x-python",
   "name": "python",
   "nbconvert_exporter": "python",
   "pygments_lexer": "ipython3",
   "version": "3.7.12"
  }
 },
 "nbformat": 4,
 "nbformat_minor": 2
}
